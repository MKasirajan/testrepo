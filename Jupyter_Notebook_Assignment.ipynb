{
  "metadata": {
    "kernelspec": {
      "name": "python",
      "display_name": "Pyolite",
      "language": "python"
    },
    "language_info": {
      "codemirror_mode": {
        "name": "python",
        "version": 3
      },
      "file_extension": ".py",
      "mimetype": "text/x-python",
      "name": "python",
      "nbconvert_exporter": "python",
      "pygments_lexer": "ipython3",
      "version": "3.8"
    }
  },
  "nbformat_minor": 4,
  "nbformat": 4,
  "cells": [
    {
      "cell_type": "markdown",
      "source": "<center>\n    <img src=\"https://cf-courses-data.s3.us.cloud-object-storage.appdomain.cloud/IBMDeveloperSkillsNetwork-DS0105EN-SkillsNetwork/labs/Module2/images/SN_web_lightmode.png\" width=\"300\" alt=\"cognitiveclass.ai logo\"  />\n</center>\n",
      "metadata": {}
    },
    {
      "cell_type": "markdown",
      "source": "#### Add your code below following the instructions given in the course\n",
      "metadata": {}
    },
    {
      "cell_type": "markdown",
      "source": "# My Jupyter Notebook on IBM Watson Studio\n",
      "metadata": {}
    },
    {
      "cell_type": "markdown",
      "source": "# Kasirajan Mahalingam\n# My current occupation is Geospatial Specialist and desired occupation is Product Manager",
      "metadata": {}
    },
    {
      "cell_type": "markdown",
      "source": "*I am interested in data science because I am passionate about using data and technology to solve real-world problems and make a positive impact on society.*",
      "metadata": {}
    },
    {
      "cell_type": "markdown",
      "source": "### The code in this cell will calculate the sum of two numbers",
      "metadata": {}
    },
    {
      "cell_type": "code",
      "source": "x = 1\ny = 2\n\nprint(x + y)\n",
      "metadata": {
        "trusted": true
      },
      "execution_count": 3,
      "outputs": [
        {
          "name": "stdout",
          "text": "3\n",
          "output_type": "stream"
        }
      ]
    },
    {
      "cell_type": "markdown",
      "source": "---\n\n- This is a bulleted list\n  - With a nested item\n- And another item\n\n1. This is a numbered list\n2. With two items\n\n| Column 1 | Column 2 |\n|----------|----------|\n| Cell 1   | Cell 2   |\n| Cell 3   | Cell 4   |\n\n[This is a hyperlink](https://www.google.com)\n\n![This is an image](https://upload.wikimedia.org/wikipedia/commons/thumb/a/a9/Test.png/1024px-Test.png)\n\n```python\nprint(\"This is code/syntax highlighting\")\n",
      "metadata": {}
    }
  ]
}